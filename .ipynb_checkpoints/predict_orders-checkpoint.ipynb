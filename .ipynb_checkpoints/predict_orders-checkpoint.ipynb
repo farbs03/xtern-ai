{
 "cells": [
  {
   "cell_type": "code",
   "execution_count": 48,
   "id": "30ed339a",
   "metadata": {},
   "outputs": [],
   "source": [
    "import pandas as pd\n",
    "from sklearn.linear_model import SGDClassifier\n",
    "import matplotlib.pyplot as plt"
   ]
  },
  {
   "cell_type": "code",
   "execution_count": 22,
   "id": "ccbb88c7",
   "metadata": {},
   "outputs": [
    {
     "data": {
      "text/html": [
       "<div>\n",
       "<style scoped>\n",
       "    .dataframe tbody tr th:only-of-type {\n",
       "        vertical-align: middle;\n",
       "    }\n",
       "\n",
       "    .dataframe tbody tr th {\n",
       "        vertical-align: top;\n",
       "    }\n",
       "\n",
       "    .dataframe thead th {\n",
       "        text-align: right;\n",
       "    }\n",
       "</style>\n",
       "<table border=\"1\" class=\"dataframe\">\n",
       "  <thead>\n",
       "    <tr style=\"text-align: right;\">\n",
       "      <th></th>\n",
       "      <th>Year</th>\n",
       "      <th>Major</th>\n",
       "      <th>University</th>\n",
       "      <th>Time</th>\n",
       "      <th>Order</th>\n",
       "    </tr>\n",
       "  </thead>\n",
       "  <tbody>\n",
       "    <tr>\n",
       "      <th>0</th>\n",
       "      <td>Year 2</td>\n",
       "      <td>Physics</td>\n",
       "      <td>Indiana State University</td>\n",
       "      <td>12</td>\n",
       "      <td>Fried Catfish Basket</td>\n",
       "    </tr>\n",
       "    <tr>\n",
       "      <th>1</th>\n",
       "      <td>Year 3</td>\n",
       "      <td>Chemistry</td>\n",
       "      <td>Ball State University</td>\n",
       "      <td>14</td>\n",
       "      <td>Sugar Cream Pie</td>\n",
       "    </tr>\n",
       "    <tr>\n",
       "      <th>2</th>\n",
       "      <td>Year 3</td>\n",
       "      <td>Chemistry</td>\n",
       "      <td>Butler University</td>\n",
       "      <td>12</td>\n",
       "      <td>Indiana Pork Chili</td>\n",
       "    </tr>\n",
       "    <tr>\n",
       "      <th>3</th>\n",
       "      <td>Year 2</td>\n",
       "      <td>Biology</td>\n",
       "      <td>Indiana State University</td>\n",
       "      <td>11</td>\n",
       "      <td>Fried Catfish Basket</td>\n",
       "    </tr>\n",
       "    <tr>\n",
       "      <th>4</th>\n",
       "      <td>Year 3</td>\n",
       "      <td>Business Administration</td>\n",
       "      <td>Butler University</td>\n",
       "      <td>12</td>\n",
       "      <td>Indiana Corn on the Cob (brushed with garlic b...</td>\n",
       "    </tr>\n",
       "  </tbody>\n",
       "</table>\n",
       "</div>"
      ],
      "text/plain": [
       "     Year                    Major                University  Time  \\\n",
       "0  Year 2                  Physics  Indiana State University    12   \n",
       "1  Year 3                Chemistry     Ball State University    14   \n",
       "2  Year 3                Chemistry         Butler University    12   \n",
       "3  Year 2                  Biology  Indiana State University    11   \n",
       "4  Year 3  Business Administration         Butler University    12   \n",
       "\n",
       "                                               Order  \n",
       "0                               Fried Catfish Basket  \n",
       "1                                    Sugar Cream Pie  \n",
       "2                                 Indiana Pork Chili  \n",
       "3                               Fried Catfish Basket  \n",
       "4  Indiana Corn on the Cob (brushed with garlic b...  "
      ]
     },
     "execution_count": 22,
     "metadata": {},
     "output_type": "execute_result"
    }
   ],
   "source": [
    "data = pd.read_csv(\"XTern 2024 Artificial Intelegence Data Set - Xtern_TrainData.csv\", delimiter=',')\n",
    "data.head()"
   ]
  },
  {
   "cell_type": "code",
   "execution_count": 23,
   "id": "92db1609",
   "metadata": {},
   "outputs": [
    {
     "data": {
      "text/plain": [
       "Year           4\n",
       "Major         20\n",
       "University    10\n",
       "Time          10\n",
       "Order         10\n",
       "dtype: int64"
      ]
     },
     "execution_count": 23,
     "metadata": {},
     "output_type": "execute_result"
    }
   ],
   "source": [
    "uniqueVals = data.nunique(axis=0)\n",
    "uniqueVals"
   ]
  },
  {
   "cell_type": "code",
   "execution_count": 131,
   "id": "2f9f87f6",
   "metadata": {},
   "outputs": [
    {
     "data": {
      "text/plain": [
       "array([['Year 2', 'Physics', 'Indiana State University', 12],\n",
       "       ['Year 3', 'Chemistry', 'Ball State University', 14],\n",
       "       ['Year 3', 'Chemistry', 'Butler University', 12],\n",
       "       ...,\n",
       "       ['Year 3', 'Chemistry', 'Butler University', 13],\n",
       "       ['Year 3', 'Astronomy', 'Butler University', 15],\n",
       "       ['Year 2', 'Economics', 'University of Notre Dame', 15]],\n",
       "      dtype=object)"
      ]
     },
     "execution_count": 131,
     "metadata": {},
     "output_type": "execute_result"
    }
   ],
   "source": [
    "# X = data[[\"Year\", \"Major\", \"University\", \"Time\"]].drop(\"Year\", axis=1).values\n",
    "X = data[[\"Year\", \"Major\", \"University\", \"Time\"]].values\n",
    "y = data[\"Order\"].values\n",
    "X"
   ]
  },
  {
   "cell_type": "code",
   "execution_count": 132,
   "id": "2976e882",
   "metadata": {},
   "outputs": [],
   "source": [
    "# Encode categorical values to numerical values\n",
    "from sklearn.preprocessing import LabelEncoder\n",
    "le = LabelEncoder()\n",
    "\n",
    "for col in range(len(X[0]) - 1):\n",
    "    le.fit(X[:,col])\n",
    "    X[:,col] = le.transform(X[:,col])\n",
    "\n",
    "le.fit(y)\n",
    "y = le.transform(y)"
   ]
  },
  {
   "cell_type": "code",
   "execution_count": 133,
   "id": "6f3d78ae",
   "metadata": {},
   "outputs": [
    {
     "data": {
      "text/plain": [
       "(array([[1, 16, 3, 12],\n",
       "        [2, 5, 0, 14],\n",
       "        [2, 5, 1, 12],\n",
       "        ...,\n",
       "        [2, 5, 1, 13],\n",
       "        [2, 2, 1, 15],\n",
       "        [1, 7, 8, 15]], dtype=object),\n",
       " array([2, 7, 6, ..., 7, 7, 0]))"
      ]
     },
     "execution_count": 133,
     "metadata": {},
     "output_type": "execute_result"
    }
   ],
   "source": [
    "X, y"
   ]
  },
  {
   "cell_type": "code",
   "execution_count": 134,
   "id": "f3c3d1ca",
   "metadata": {},
   "outputs": [
    {
     "data": {
      "text/plain": [
       "(4000, 1000, 4000, 1000)"
      ]
     },
     "execution_count": 134,
     "metadata": {},
     "output_type": "execute_result"
    }
   ],
   "source": [
    "from sklearn.model_selection import train_test_split\n",
    "X_train, X_test, y_train, y_test = train_test_split(X, y, test_size=0.2, random_state=42)\n",
    "len(X_train), len(X_test), len(y_train), len(y_test)"
   ]
  },
  {
   "cell_type": "code",
   "execution_count": 135,
   "id": "01fad62d",
   "metadata": {},
   "outputs": [
    {
     "data": {
      "text/plain": [
       "0.651"
      ]
     },
     "execution_count": 135,
     "metadata": {},
     "output_type": "execute_result"
    }
   ],
   "source": [
    "from sklearn.ensemble import RandomForestClassifier\n",
    "rf = RandomForestClassifier(random_state=42, )\n",
    "rf.fit(X_train, y_train)\n",
    "rf.score(X_test, y_test)"
   ]
  },
  {
   "cell_type": "markdown",
   "id": "844ab4ae",
   "metadata": {},
   "source": [
    "# Hyperparameter Tuning"
   ]
  },
  {
   "cell_type": "code",
   "execution_count": 108,
   "id": "dfb46fee",
   "metadata": {},
   "outputs": [
    {
     "data": {
      "text/plain": [
       "[<matplotlib.lines.Line2D at 0x203ea8d2280>]"
      ]
     },
     "execution_count": 108,
     "metadata": {},
     "output_type": "execute_result"
    },
    {
     "data": {
      "image/png": "[encoded data removed]",
      "text/plain": [
       "<Figure size 640x480 with 1 Axes>"
      ]
     },
     "metadata": {},
     "output_type": "display_data"
    }
   ],
   "source": [
    "from sklearn.ensemble import RandomForestClassifier\n",
    "import numpy as np\n",
    "max_depths = [x for x in range(1, 33)]\n",
    "depth_scores = []\n",
    "\n",
    "for depth in max_depths:\n",
    "    rf = RandomForestClassifier(random_state=42, max_depth=depth)\n",
    "    rf.fit(X_train, y_train)\n",
    "    depth_scores.append(rf.score(X_test, y_test))\n",
    "plt.plot(max_depths, depth_scores)"
   ]
  },
  {
   "cell_type": "code",
   "execution_count": 109,
   "id": "c911bd21",
   "metadata": {},
   "outputs": [
    {
     "name": "stdout",
     "output_type": "stream",
     "text": [
      "1 0.461\n",
      "2 0.461\n",
      "3 0.485\n",
      "4 0.544\n",
      "5 0.556\n",
      "6 0.573\n",
      "7 0.594\n",
      "8 0.621\n",
      "9 0.633\n",
      "10 0.645\n",
      "11 0.651\n",
      "12 0.653\n",
      "13 0.654\n",
      "14 0.651\n",
      "15 0.653\n",
      "16 0.651\n",
      "17 0.651\n",
      "18 0.651\n",
      "19 0.651\n",
      "20 0.651\n",
      "21 0.651\n",
      "22 0.651\n",
      "23 0.651\n",
      "24 0.651\n",
      "25 0.651\n",
      "26 0.651\n",
      "27 0.651\n",
      "28 0.651\n",
      "29 0.651\n",
      "30 0.651\n",
      "31 0.651\n",
      "32 0.651\n"
     ]
    },
    {
     "data": {
      "text/plain": [
       "13"
      ]
     },
     "execution_count": 109,
     "metadata": {},
     "output_type": "execute_result"
    }
   ],
   "source": [
    "#At n_estimators = 32, there's marginal improvements onwards\n",
    "for val in range(len(max_depths)):\n",
    "    print(max_depths[val], depth_scores[val])\n",
    "best_max_depth = max_depths[pd.Series(depth_scores).idxmax()]\n",
    "best_max_depth"
   ]
  },
  {
   "cell_type": "code",
   "execution_count": 110,
   "id": "f68353d1",
   "metadata": {},
   "outputs": [
    {
     "data": {
      "text/plain": [
       "[<matplotlib.lines.Line2D at 0x203e97692b0>]"
      ]
     },
     "execution_count": 110,
     "metadata": {},
     "output_type": "execute_result"
    },
    {
     "data": {
      "image/png": "[encoded data removed]",
      "text/plain": [
       "<Figure size 640x480 with 1 Axes>"
      ]
     },
     "metadata": {},
     "output_type": "display_data"
    }
   ],
   "source": [
    "n_estimators = [2**x for x in range(10)]\n",
    "scores = []\n",
    "\n",
    "for estimators in n_estimators:\n",
    "    rf = RandomForestClassifier(random_state=42, n_estimators=estimators)\n",
    "    rf.fit(X_train, y_train)\n",
    "    scores.append(rf.score(X_test, y_test))\n",
    "plt.plot(n_estimators, scores)"
   ]
  },
  {
   "cell_type": "code",
   "execution_count": 111,
   "id": "a1e8eb72",
   "metadata": {},
   "outputs": [
    {
     "name": "stdout",
     "output_type": "stream",
     "text": [
      "1 0.61\n",
      "2 0.612\n",
      "4 0.636\n",
      "8 0.637\n",
      "16 0.645\n",
      "32 0.654\n",
      "64 0.649\n",
      "128 0.652\n",
      "256 0.656\n",
      "512 0.657\n"
     ]
    }
   ],
   "source": [
    "#At n_estimators = 32, there's marginal improvements onwards\n",
    "for val in range(len(n_estimators)):\n",
    "    print(n_estimators[val], scores[val])\n",
    "best_n_estimators = 32"
   ]
  },
  {
   "cell_type": "code",
   "execution_count": 112,
   "id": "b7f02785",
   "metadata": {},
   "outputs": [
    {
     "data": {
      "text/plain": [
       "0.654"
      ]
     },
     "execution_count": 112,
     "metadata": {},
     "output_type": "execute_result"
    }
   ],
   "source": [
    "rf = RandomForestClassifier(random_state=42, max_depth=best_max_depth, n_estimators=best_n_estimators)\n",
    "rf.fit(X_train, y_train)\n",
    "rf.score(X_test, y_test)"
   ]
  },
  {
   "cell_type": "code",
   "execution_count": 113,
   "id": "c5d7b124",
   "metadata": {},
   "outputs": [
    {
     "name": "stdout",
     "output_type": "stream",
     "text": [
      "Elapsed time to compute the importances: 0.092 seconds\n"
     ]
    }
   ],
   "source": [
    "# Calculate feature importance, see if columns should be dropped\n",
    "# https://scikit-learn.org/stable/auto_examples/ensemble/plot_forest_importances.html\n",
    "\n",
    "import time\n",
    "\n",
    "import numpy as np\n",
    "\n",
    "start_time = time.time()\n",
    "importances = rf.feature_importances_\n",
    "std = np.std([rf.feature_importances_ for tree in rf.estimators_], axis=0)\n",
    "elapsed_time = time.time() - start_time\n",
    "\n",
    "print(f\"Elapsed time to compute the importances: {elapsed_time:.3f} seconds\")"
   ]
  },
  {
   "cell_type": "code",
   "execution_count": 114,
   "id": "6f940308",
   "metadata": {},
   "outputs": [
    {
     "data": {
      "image/png": "[encoded data removed]",
      "text/plain": [
       "<Figure size 640x480 with 1 Axes>"
      ]
     },
     "metadata": {},
     "output_type": "display_data"
    }
   ],
   "source": [
    "forest_importances = pd.Series(importances, index=data.columns.drop(\"Order\"))\n",
    "\n",
    "fig, ax = plt.subplots()\n",
    "forest_importances.plot.bar(yerr=std, ax=ax)\n",
    "ax.set_title(\"Feature importances using MDI\")\n",
    "ax.set_ylabel(\"Mean decrease in impurity\")\n",
    "fig.tight_layout()"
   ]
  },
  {
   "cell_type": "code",
   "execution_count": 142,
   "id": "c63887c9",
   "metadata": {},
   "outputs": [],
   "source": [
    "# https://scikit-learn.org/stable/auto_examples/inspection/plot_permutation_importance.html\n",
    "categorical_columns = [\"Year\", \"Major\", \"University\"]\n",
    "numerical_columns = [\"Time\"]\n",
    "\n",
    "X = data[categorical + numerical]\n",
    "y = data[\"Order\"]\n",
    "\n",
    "X_train, X_test, y_train, y_test = train_test_split(X, y, stratify=y, random_state=42)"
   ]
  },
  {
   "cell_type": "code",
   "execution_count": 139,
   "id": "a8e2a48f",
   "metadata": {},
   "outputs": [
    {
     "data": {
      "text/html": [
       "<style>#sk-container-id-9 {color: black;}#sk-container-id-9 pre{padding: 0;}#sk-container-id-9 div.sk-toggleable {background-color: white;}#sk-container-id-9 label.sk-toggleable__label {cursor: pointer;display: block;width: 100%;margin-bottom: 0;padding: 0.3em;box-sizing: border-box;text-align: center;}#sk-container-id-9 label.sk-toggleable__label-arrow:before {content: \"▸\";float: left;margin-right: 0.25em;color: #696969;}#sk-container-id-9 label.sk-toggleable__label-arrow:hover:before {color: black;}#sk-container-id-9 div.sk-estimator:hover label.sk-toggleable__label-arrow:before {color: black;}#sk-container-id-9 div.sk-toggleable__content {max-height: 0;max-width: 0;overflow: hidden;text-align: left;background-color: #f0f8ff;}#sk-container-id-9 div.sk-toggleable__content pre {margin: 0.2em;color: black;border-radius: 0.25em;background-color: #f0f8ff;}#sk-container-id-9 input.sk-toggleable__control:checked~div.sk-toggleable__content {max-height: 200px;max-width: 100%;overflow: auto;}#sk-container-id-9 input.sk-toggleable__control:checked~label.sk-toggleable__label-arrow:before {content: \"▾\";}#sk-container-id-9 div.sk-estimator input.sk-toggleable__control:checked~label.sk-toggleable__label {background-color: #d4ebff;}#sk-container-id-9 div.sk-label input.sk-toggleable__control:checked~label.sk-toggleable__label {background-color: #d4ebff;}#sk-container-id-9 input.sk-hidden--visually {border: 0;clip: rect(1px 1px 1px 1px);clip: rect(1px, 1px, 1px, 1px);height: 1px;margin: -1px;overflow: hidden;padding: 0;position: absolute;width: 1px;}#sk-container-id-9 div.sk-estimator {font-family: monospace;background-color: #f0f8ff;border: 1px dotted black;border-radius: 0.25em;box-sizing: border-box;margin-bottom: 0.5em;}#sk-container-id-9 div.sk-estimator:hover {background-color: #d4ebff;}#sk-container-id-9 div.sk-parallel-item::after {content: \"\";width: 100%;border-bottom: 1px solid gray;flex-grow: 1;}#sk-container-id-9 div.sk-label:hover label.sk-toggleable__label {background-color: #d4ebff;}#sk-container-id-9 div.sk-serial::before {content: \"\";position: absolute;border-left: 1px solid gray;box-sizing: border-box;top: 0;bottom: 0;left: 50%;z-index: 0;}#sk-container-id-9 div.sk-serial {display: flex;flex-direction: column;align-items: center;background-color: white;padding-right: 0.2em;padding-left: 0.2em;position: relative;}#sk-container-id-9 div.sk-item {position: relative;z-index: 1;}#sk-container-id-9 div.sk-parallel {display: flex;align-items: stretch;justify-content: center;background-color: white;position: relative;}#sk-container-id-9 div.sk-item::before, #sk-container-id-9 div.sk-parallel-item::before {content: \"\";position: absolute;border-left: 1px solid gray;box-sizing: border-box;top: 0;bottom: 0;left: 50%;z-index: -1;}#sk-container-id-9 div.sk-parallel-item {display: flex;flex-direction: column;z-index: 1;position: relative;background-color: white;}#sk-container-id-9 div.sk-parallel-item:first-child::after {align-self: flex-end;width: 50%;}#sk-container-id-9 div.sk-parallel-item:last-child::after {align-self: flex-start;width: 50%;}#sk-container-id-9 div.sk-parallel-item:only-child::after {width: 0;}#sk-container-id-9 div.sk-dashed-wrapped {border: 1px dashed gray;margin: 0 0.4em 0.5em 0.4em;box-sizing: border-box;padding-bottom: 0.4em;background-color: white;}#sk-container-id-9 div.sk-label label {font-family: monospace;font-weight: bold;display: inline-block;line-height: 1.2em;}#sk-container-id-9 div.sk-label-container {text-align: center;}#sk-container-id-9 div.sk-container {/* jupyter's `normalize.less` sets `[hidden] { display: none; }` but bootstrap.min.css set `[hidden] { display: none !important; }` so we also need the `!important` here to be able to override the default hidden behavior on the sphinx rendered scikit-learn.org. See: https://github.com/scikit-learn/scikit-learn/issues/21755 */display: inline-block !important;position: relative;}#sk-container-id-9 div.sk-text-repr-fallback {display: none;}</style><div id=\"sk-container-id-9\" class=\"sk-top-container\"><div class=\"sk-text-repr-fallback\"><pre>Pipeline(steps=[(&#x27;preprocess&#x27;,\n",
       "                 ColumnTransformer(transformers=[(&#x27;cat&#x27;,\n",
       "                                                  OrdinalEncoder(encoded_missing_value=-1,\n",
       "                                                                 handle_unknown=&#x27;use_encoded_value&#x27;,\n",
       "                                                                 unknown_value=-1),\n",
       "                                                  [&#x27;Year&#x27;, &#x27;Major&#x27;,\n",
       "                                                   &#x27;University&#x27;]),\n",
       "                                                 (&#x27;num&#x27;, SimpleImputer(),\n",
       "                                                  [&#x27;Time&#x27;])],\n",
       "                                   verbose_feature_names_out=False)),\n",
       "                (&#x27;classifier&#x27;, RandomForestClassifier(random_state=42))])</pre><b>In a Jupyter environment, please rerun this cell to show the HTML representation or trust the notebook. <br />On GitHub, the HTML representation is unable to render, please try loading this page with nbviewer.org.</b></div><div class=\"sk-container\" hidden><div class=\"sk-item sk-dashed-wrapped\"><div class=\"sk-label-container\"><div class=\"sk-label sk-toggleable\"><input class=\"sk-toggleable__control sk-hidden--visually\" id=\"sk-estimator-id-9\" type=\"checkbox\" ><label for=\"sk-estimator-id-9\" class=\"sk-toggleable__label sk-toggleable__label-arrow\">Pipeline</label><div class=\"sk-toggleable__content\"><pre>Pipeline(steps=[(&#x27;preprocess&#x27;,\n",
       "                 ColumnTransformer(transformers=[(&#x27;cat&#x27;,\n",
       "                                                  OrdinalEncoder(encoded_missing_value=-1,\n",
       "                                                                 handle_unknown=&#x27;use_encoded_value&#x27;,\n",
       "                                                                 unknown_value=-1),\n",
       "                                                  [&#x27;Year&#x27;, &#x27;Major&#x27;,\n",
       "                                                   &#x27;University&#x27;]),\n",
       "                                                 (&#x27;num&#x27;, SimpleImputer(),\n",
       "                                                  [&#x27;Time&#x27;])],\n",
       "                                   verbose_feature_names_out=False)),\n",
       "                (&#x27;classifier&#x27;, RandomForestClassifier(random_state=42))])</pre></div></div></div><div class=\"sk-serial\"><div class=\"sk-item sk-dashed-wrapped\"><div class=\"sk-label-container\"><div class=\"sk-label sk-toggleable\"><input class=\"sk-toggleable__control sk-hidden--visually\" id=\"sk-estimator-id-10\" type=\"checkbox\" ><label for=\"sk-estimator-id-10\" class=\"sk-toggleable__label sk-toggleable__label-arrow\">preprocess: ColumnTransformer</label><div class=\"sk-toggleable__content\"><pre>ColumnTransformer(transformers=[(&#x27;cat&#x27;,\n",
       "                                 OrdinalEncoder(encoded_missing_value=-1,\n",
       "                                                handle_unknown=&#x27;use_encoded_value&#x27;,\n",
       "                                                unknown_value=-1),\n",
       "                                 [&#x27;Year&#x27;, &#x27;Major&#x27;, &#x27;University&#x27;]),\n",
       "                                (&#x27;num&#x27;, SimpleImputer(), [&#x27;Time&#x27;])],\n",
       "                  verbose_feature_names_out=False)</pre></div></div></div><div class=\"sk-parallel\"><div class=\"sk-parallel-item\"><div class=\"sk-item\"><div class=\"sk-label-container\"><div class=\"sk-label sk-toggleable\"><input class=\"sk-toggleable__control sk-hidden--visually\" id=\"sk-estimator-id-11\" type=\"checkbox\" ><label for=\"sk-estimator-id-11\" class=\"sk-toggleable__label sk-toggleable__label-arrow\">cat</label><div class=\"sk-toggleable__content\"><pre>[&#x27;Year&#x27;, &#x27;Major&#x27;, &#x27;University&#x27;]</pre></div></div></div><div class=\"sk-serial\"><div class=\"sk-item\"><div class=\"sk-estimator sk-toggleable\"><input class=\"sk-toggleable__control sk-hidden--visually\" id=\"sk-estimator-id-12\" type=\"checkbox\" ><label for=\"sk-estimator-id-12\" class=\"sk-toggleable__label sk-toggleable__label-arrow\">OrdinalEncoder</label><div class=\"sk-toggleable__content\"><pre>OrdinalEncoder(encoded_missing_value=-1, handle_unknown=&#x27;use_encoded_value&#x27;,\n",
       "               unknown_value=-1)</pre></div></div></div></div></div></div><div class=\"sk-parallel-item\"><div class=\"sk-item\"><div class=\"sk-label-container\"><div class=\"sk-label sk-toggleable\"><input class=\"sk-toggleable__control sk-hidden--visually\" id=\"sk-estimator-id-13\" type=\"checkbox\" ><label for=\"sk-estimator-id-13\" class=\"sk-toggleable__label sk-toggleable__label-arrow\">num</label><div class=\"sk-toggleable__content\"><pre>[&#x27;Time&#x27;]</pre></div></div></div><div class=\"sk-serial\"><div class=\"sk-item\"><div class=\"sk-estimator sk-toggleable\"><input class=\"sk-toggleable__control sk-hidden--visually\" id=\"sk-estimator-id-14\" type=\"checkbox\" ><label for=\"sk-estimator-id-14\" class=\"sk-toggleable__label sk-toggleable__label-arrow\">SimpleImputer</label><div class=\"sk-toggleable__content\"><pre>SimpleImputer()</pre></div></div></div></div></div></div></div></div><div class=\"sk-item\"><div class=\"sk-estimator sk-toggleable\"><input class=\"sk-toggleable__control sk-hidden--visually\" id=\"sk-estimator-id-15\" type=\"checkbox\" ><label for=\"sk-estimator-id-15\" class=\"sk-toggleable__label sk-toggleable__label-arrow\">RandomForestClassifier</label><div class=\"sk-toggleable__content\"><pre>RandomForestClassifier(random_state=42)</pre></div></div></div></div></div></div></div>"
      ],
      "text/plain": [
       "Pipeline(steps=[('preprocess',\n",
       "                 ColumnTransformer(transformers=[('cat',\n",
       "                                                  OrdinalEncoder(encoded_missing_value=-1,\n",
       "                                                                 handle_unknown='use_encoded_value',\n",
       "                                                                 unknown_value=-1),\n",
       "                                                  ['Year', 'Major',\n",
       "                                                   'University']),\n",
       "                                                 ('num', SimpleImputer(),\n",
       "                                                  ['Time'])],\n",
       "                                   verbose_feature_names_out=False)),\n",
       "                ('classifier', RandomForestClassifier(random_state=42))])"
      ]
     },
     "execution_count": 139,
     "metadata": {},
     "output_type": "execute_result"
    }
   ],
   "source": [
    "from sklearn.compose import ColumnTransformer\n",
    "from sklearn.ensemble import RandomForestClassifier\n",
    "from sklearn.impute import SimpleImputer\n",
    "from sklearn.pipeline import Pipeline\n",
    "from sklearn.preprocessing import OrdinalEncoder\n",
    "\n",
    "categorical_encoder = OrdinalEncoder(\n",
    "    handle_unknown=\"use_encoded_value\", unknown_value=-1, encoded_missing_value=-1\n",
    ")\n",
    "numerical_pipe = SimpleImputer(strategy=\"mean\")\n",
    "\n",
    "preprocessing = ColumnTransformer(\n",
    "    [\n",
    "        (\"cat\", categorical_encoder, categorical_columns),\n",
    "        (\"num\", numerical_pipe, numerical_columns),\n",
    "    ],\n",
    "    verbose_feature_names_out=False,\n",
    ")\n",
    "\n",
    "rf = Pipeline(\n",
    "    [\n",
    "        (\"preprocess\", preprocessing),\n",
    "        (\"classifier\", RandomForestClassifier(random_state=42)),\n",
    "    ]\n",
    ")\n",
    "rf.fit(X_train, y_train)"
   ]
  },
  {
   "cell_type": "code",
   "execution_count": 141,
   "id": "afbed54f",
   "metadata": {},
   "outputs": [
    {
     "data": {
      "text/plain": [
       "(0.7352, 0.6448)"
      ]
     },
     "execution_count": 141,
     "metadata": {},
     "output_type": "execute_result"
    }
   ],
   "source": [
    "rf.score(X_train, y_train), rf.score(X_test, y_test)"
   ]
  },
  {
   "cell_type": "code",
   "execution_count": null,
   "id": "8353a876",
   "metadata": {},
   "outputs": [],
   "source": []
  }
 ],
 "metadata": {
  "kernelspec": {
   "display_name": "Python 3 (ipykernel)",
   "language": "python",
   "name": "python3"
  },
  "language_info": {
   "codemirror_mode": {
    "name": "ipython",
    "version": 3
   },
   "file_extension": ".py",
   "mimetype": "text/x-python",
   "name": "python",
   "nbconvert_exporter": "python",
   "pygments_lexer": "ipython3",
   "version": "3.8.18"
  }
 },
 "nbformat": 4,
 "nbformat_minor": 5
}
